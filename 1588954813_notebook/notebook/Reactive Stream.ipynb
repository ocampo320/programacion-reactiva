{
 "cells": [
  {
   "cell_type": "code",
   "execution_count": 34,
   "metadata": {},
   "outputs": [],
   "source": [
    "public class persona {\n",
    "    private String  name;\n",
    "    private int age;\n",
    "\n",
    "    public persona(String name, int age) {\n",
    "        this.name = name;\n",
    "        this.age = age;\n",
    "    }\n",
    "\n",
    "    public String getName() {\n",
    "        return name;\n",
    "    }\n",
    "\n",
    "    public void setName(String name) {\n",
    "        this.name = name;\n",
    "    }\n",
    "\n",
    "    public int getAge() {\n",
    "        return age;\n",
    "    }\n",
    "\n",
    "    public void setAge(int age) {\n",
    "        this.age = age;\n",
    "    }\n",
    "}"
   ]
  },
  {
   "cell_type": "code",
   "execution_count": 35,
   "metadata": {},
   "outputs": [
    {
     "ename": "CompilationException",
     "evalue": "",
     "output_type": "error",
     "traceback": [
      "\u001b[1m\u001b[30m|   \u001b[1m\u001b[30m        this.msnList = \u001b[0m\u001b[1m\u001b[30m\u001b[41mList.of(\u001b[0m",
      "\u001b[1m\u001b[30m|   \u001b[1m\u001b[30m\u001b[41m       msnList.add(new persona(\"deibi\", 20))\u001b[0m",
      "\u001b[1m\u001b[30m|   \u001b[1m\u001b[30m\u001b[41m        )\u001b[0m\u001b[1m\u001b[30m;\u001b[0m",
      "\u001b[1m\u001b[31mincompatible types: inference variable E has incompatible bounds\u001b[0m",
      "\u001b[1m\u001b[31m    equality constraints: persona\u001b[0m",
      "\u001b[1m\u001b[31m    lower bounds: java.lang.Boolean\u001b[0m",
      ""
     ]
    }
   ],
   "source": [
    "\n",
    "import java.util.stream.IntStream; \n",
    "\n",
    "public class SimplePublisher implements Flow.Publisher<persona> {\n",
    "    \n",
    "\n",
    "\n",
    "\n",
    " List<persona> msnList = new ArrayList<>();\n",
    "    \n",
    "\n",
    "    public SimplePublisher() {\n",
    "        this.msnList = List.of(\n",
    "       msnList.add(new persona(\"deibi\", 20))\n",
    "        );\n",
    "    }\n",
    "    \n",
    "\n",
    "    @Override\n",
    "    public void subscribe(Flow.Subscriber<? super persona> subscriber)   {\n",
    "        msnList.forEach((event) -> {\n",
    "            try{\n",
    "                  Thread.sleep(550);\n",
    "                  subscriber.onNext(event);\n",
    "            } catch(InterruptedException e){\n",
    "                \n",
    "            }\n",
    "          \n",
    "        });\n",
    "        subscriber.onComplete();\n",
    "    }\n",
    "}"
   ]
  },
  {
   "cell_type": "code",
   "execution_count": 32,
   "metadata": {},
   "outputs": [],
   "source": []
  },
  {
   "cell_type": "code",
   "execution_count": null,
   "metadata": {},
   "outputs": [],
   "source": []
  },
  {
   "cell_type": "code",
   "execution_count": 29,
   "metadata": {},
   "outputs": [
    {
     "ename": "CompilationException",
     "evalue": "",
     "output_type": "error",
     "traceback": [
      "\u001b[1m\u001b[30m|   \u001b[1m\u001b[30m\u001b[0m\u001b[1m\u001b[30m\u001b[41mSimplePublisher\u001b[0m\u001b[1m\u001b[30m publisher = new SimplePublisher();\u001b[0m",
      "\u001b[1m\u001b[31mcannot find symbol\u001b[0m",
      "\u001b[1m\u001b[31m  symbol:   class SimplePublisher\u001b[0m",
      "",
      "\u001b[1m\u001b[30m|   \u001b[1m\u001b[30mSimplePublisher publisher = new \u001b[0m\u001b[1m\u001b[30m\u001b[41mSimplePublisher\u001b[0m\u001b[1m\u001b[30m();\u001b[0m",
      "\u001b[1m\u001b[31mcannot find symbol\u001b[0m",
      "\u001b[1m\u001b[31m  symbol:   class SimplePublisher\u001b[0m",
      ""
     ]
    }
   ],
   "source": [
    "SimplePublisher publisher = new SimplePublisher();\n",
    "\n",
    "var subscriber = new Flow.Subscriber<persona>() {\n",
    "    @Override\n",
    "    public void onSubscribe(Flow.Subscription subscription) {}\n",
    "\n",
    "    @Override\n",
    "    public void onNext(persona item) {\n",
    "        System.out.println(\"item = [\" + item + \"]\");\n",
    "    }\n",
    "\n",
    "    @Override\n",
    "    public void onError(Throwable throwable) {}\n",
    "\n",
    "    @Override\n",
    "    public void onComplete() {\n",
    "        System.out.println(\"listo ok, todo bien!!\");\n",
    "    }\n",
    "};\n",
    "publisher.subscribe(subscriber);\n",
    "publisher.subscribe(subscriber);\n",
    "publisher.subscribe(subscriber);\n",
    "publisher.subscribe(subscriber);\n",
    "publisher.subscribe(subscriber);"
   ]
  },
  {
   "cell_type": "code",
   "execution_count": null,
   "metadata": {},
   "outputs": [],
   "source": [
    "       "
   ]
  },
  {
   "cell_type": "code",
   "execution_count": null,
   "metadata": {},
   "outputs": [],
   "source": []
  },
  {
   "cell_type": "code",
   "execution_count": null,
   "metadata": {},
   "outputs": [],
   "source": []
  },
  {
   "cell_type": "code",
   "execution_count": null,
   "metadata": {},
   "outputs": [],
   "source": []
  },
  {
   "cell_type": "code",
   "execution_count": null,
   "metadata": {},
   "outputs": [],
   "source": []
  },
  {
   "cell_type": "code",
   "execution_count": null,
   "metadata": {},
   "outputs": [],
   "source": []
  },
  {
   "cell_type": "code",
   "execution_count": null,
   "metadata": {},
   "outputs": [],
   "source": []
  },
  {
   "cell_type": "code",
   "execution_count": null,
   "metadata": {},
   "outputs": [],
   "source": []
  },
  {
   "cell_type": "code",
   "execution_count": null,
   "metadata": {},
   "outputs": [],
   "source": []
  },
  {
   "cell_type": "code",
   "execution_count": null,
   "metadata": {},
   "outputs": [],
   "source": []
  }
 ],
 "metadata": {
  "celltoolbar": "Raw Cell Format",
  "kernelspec": {
   "display_name": "Java",
   "language": "java",
   "name": "java"
  },
  "language_info": {
   "codemirror_mode": "java",
   "file_extension": ".jshell",
   "mimetype": "text/x-java-source",
   "name": "Java",
   "pygments_lexer": "java",
   "version": "11.0.6+8-LTS"
  }
 },
 "nbformat": 4,
 "nbformat_minor": 4
}
