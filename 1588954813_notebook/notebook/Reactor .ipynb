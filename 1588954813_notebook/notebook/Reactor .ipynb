{
 "cells": [
  {
   "cell_type": "code",
   "execution_count": 2,
   "metadata": {},
   "outputs": [],
   "source": [
    "%%loadFromPOM\n",
    "<dependency>\n",
    "    <groupId>io.projectreactor</groupId>\t\n",
    "    <artifactId>reactor-core</artifactId>\n",
    "    <version>3.0.3.RELEASE</version>\n",
    "</dependency>"
   ]
  },
  {
   "cell_type": "code",
   "execution_count": 3,
   "metadata": {},
   "outputs": [
    {
     "name": "stdout",
     "output_type": "stream",
     "text": [
      "ESTADO A\n",
      "ESTADO C\n",
      "\n",
      "ESTADO 1\n",
      "ESTADO 2\n"
     ]
    },
    {
     "data": {
      "text/plain": [
       "reactor.core.publisher.LambdaSubscriber@55416302"
      ]
     },
     "execution_count": 3,
     "metadata": {},
     "output_type": "execute_result"
    }
   ],
   "source": [
    "import reactor.core.publisher.Flux;\n",
    "\n",
    "Flux<String> estadoAC = Flux.just(\"ESTADO A\", \"ESTADO C\");\n",
    "Flux<String> estado12 = Flux.fromIterable(Arrays.asList(\"ESTADO 1\", \"ESTADO 2\"));\n",
    "\n",
    "estadoAC.subscribe((String r) -> {\n",
    "    System.out.println(r);\n",
    "});\n",
    "System.out.println();\n",
    "estado12.subscribe(System.out::println);"
   ]
  },
  {
   "cell_type": "code",
   "execution_count": 4,
   "metadata": {},
   "outputs": [
    {
     "name": "stdout",
     "output_type": "stream",
     "text": [
      "1. a\n",
      "2. b\n",
      "3. c\n",
      "4. d\n",
      "5. e\n",
      "6. f\n",
      "7. g\n",
      "8. h\n",
      "9. i\n",
      "10. j\n",
      "11. k\n",
      "12. l\n",
      "13. m\n",
      "14. n\n",
      "15. o\n",
      "16. p\n",
      "17. q\n",
      "18. r\n",
      "19. s\n",
      "20. t\n",
      "21. u\n",
      "22. v\n",
      "23. w\n",
      "24. x\n",
      "25. y\n",
      "26. z\n"
     ]
    },
    {
     "data": {
      "text/plain": [
       "reactor.core.publisher.LambdaSubscriber@5d48985a"
      ]
     },
     "execution_count": 4,
     "metadata": {},
     "output_type": "execute_result"
    }
   ],
   "source": [
    "import reactor.core.publisher.Flux;\n",
    "\n",
    "List<String> words = Arrays.asList(\n",
    "    \"the\",\"quick\", \"brown\", \"fox\",\"jumped\",\"over\",\"the\",\"lazy\", \"dogs\"\n",
    ");\n",
    "\n",
    "Flux<String> manyLetters = Flux.fromStream(words.stream())\n",
    ".flatMap(word -> Flux.fromArray(word.split(\"\")))\n",
    ".distinct()\n",
    ".sort()\n",
    "//.filter(letra -> letra.equals(\"s\"))\n",
    ".zipWith(Flux.range(1, 28), (string, count) -> String.format(\"%d. %s\", count, string));\n",
    "\n",
    "manyLetters.subscribe(System.out::println);\n",
    "\n"
   ]
  },
  {
   "cell_type": "code",
   "execution_count": 29,
   "metadata": {},
   "outputs": [
    {
     "name": "stdout",
     "output_type": "stream",
     "text": [
      " 1. a\n",
      " 2. b\n",
      " 3. c\n",
      " 4. d\n",
      " 5. e\n",
      " 6. f\n",
      " 7. g\n",
      " 8. h\n",
      " 9. i\n",
      "10. j\n",
      "11. k\n",
      "12. l\n",
      "13. m\n",
      "14. n\n",
      "15. o\n",
      "16. p\n",
      "17. q\n",
      "18. r\n",
      "19. s\n",
      "20. t\n",
      "21. u\n",
      "22. v\n",
      "23. w\n",
      "24. x\n",
      "25. y\n",
      "26. z\n",
      "27. ñ\n"
     ]
    },
    {
     "data": {
      "text/plain": [
       "reactor.core.publisher.LambdaSubscriber@7200e6de"
      ]
     },
     "execution_count": 29,
     "metadata": {},
     "output_type": "execute_result"
    }
   ],
   "source": [
    "import reactor.core.publisher.Mono;\n",
    "import reactor.core.publisher.Flux;\n",
    "\n",
    "List<String> words = Arrays.asList(\n",
    "    \"the\",\"quick\", \"brown\", \"fox\",\"jumped\",\"over\",\"the\",\"lazy\", \"dog\"\n",
    ");\n",
    "\n",
    "Mono<String> missing1 = Mono.just(\"s\");\n",
    "Mono<String> missing2 = Mono.just(\"ñ\");\n",
    "\n",
    "Flux<String> allLetters = Flux\n",
    "    .fromIterable(words)\n",
    "    .flatMap(word -> Flux.fromArray(word.split(\"\")))\n",
    "    .concatWith(missing1)\n",
    "    .concatWith(missing2)\n",
    "    .distinct()\n",
    "    .sort()\n",
    "    .zipWith(Flux.range(1, Integer.MAX_VALUE),(string, count) -> String.format(\"%2d. %s\", count, string));\n",
    "\n",
    "allLetters.subscribe(System.out::println);"
   ]
  },
  {
   "cell_type": "code",
   "execution_count": 22,
   "metadata": {},
   "outputs": [
    {
     "name": "stdout",
     "output_type": "stream",
     "text": [
      "i think...."
     ]
    },
    {
     "data": {
      "text/plain": [
       "reactor.core.publisher.LambdaFirstSubscriber@542980de"
      ]
     },
     "execution_count": 22,
     "metadata": {},
     "output_type": "execute_result"
    },
    {
     "name": "stdout",
     "output_type": "stream",
     "text": [
      "\n"
     ]
    }
   ],
   "source": [
    "import reactor.core.scheduler.Schedulers;\n",
    "import reactor.core.publisher.Mono;\n",
    "import reactor.core.publisher.Flux;\n",
    "\n",
    "String doSomething(){\n",
    "   return \"i think....\";\n",
    "}\n",
    "\n",
    " Mono.fromCallable(() -> doSomething())\n",
    "            .subscribeOn(Schedulers.elastic())\n",
    "             .subscribe(System.out::println);"
   ]
  },
  {
   "cell_type": "code",
   "execution_count": 29,
   "metadata": {},
   "outputs": [
    {
     "name": "stdout",
     "output_type": "stream",
     "text": [
      "https://sofka.com.co/users\n",
      "https://sofka.com.co/person\n"
     ]
    }
   ],
   "source": [
    "String obj = \"https://sofka.com.co/users\"; \n",
    "String obj2 = \"https://sofka.com.co/person\"; \n",
    "\n",
    "Flux<String> helloPauseWorld = Mono.just(obj)\n",
    "                  .concatWith(Mono.just(obj2)\n",
    "                  .delaySubscriptionMillis(1000));\n",
    "\n",
    " helloPauseWorld.toStream()\n",
    "                 .forEach(System.out::println);"
   ]
  },
  {
   "cell_type": "code",
   "execution_count": 36,
   "metadata": {},
   "outputs": [
    {
     "name": "stdout",
     "output_type": "stream",
     "text": [
      "let's get\n",
      "the party\n",
      "started\n"
     ]
    }
   ],
   "source": [
    "  Mono<String> a = Mono.just(\"oops I'm late\").delaySubscriptionMillis(450);\n",
    "  Flux<String> b = Flux.just(\"let's get\", \"the party\", \"started\").delayMillis(400);\n",
    "\n",
    "  Flux.firstEmitting(a, b)\n",
    "      .toIterable()\n",
    "      .forEach(System.out::println)"
   ]
  },
  {
   "cell_type": "code",
   "execution_count": 59,
   "metadata": {},
   "outputs": [
    {
     "name": "stdout",
     "output_type": "stream",
     "text": [
      "ALZATE\n",
      "GOMEZ\n",
      "Hey mister ALZATEGOMEZ. how are you?\n",
      "alzate gomez\n"
     ]
    }
   ],
   "source": [
    "class Sir {\n",
    "    private String lastName;\n",
    "    public Sir(String lastName){\n",
    "        this.lastName = lastName;\n",
    "    }\n",
    "    public String getLastName(){\n",
    "        return lastName;\n",
    "    }\n",
    "    public String toString(){\n",
    "       return lastName;\n",
    "    }\n",
    "}\n",
    "\n",
    "Mono<Sir> body = Mono.just(new Sir(\"alzate gomez\"));\n",
    "\n",
    "body.flatMap(sir -> Flux.fromArray(sir.getLastName().split(\" \")))\n",
    "     .map(String::toUpperCase).subscribe(System.out::println);\n",
    "     \n",
    "Flux<String> flux = Mono.just(\"Hey mister \")\n",
    "    .concatWith(\n",
    "        body.\n",
    "            flatMap(sir -> Flux.fromArray(sir.getLastName().split(\" \")))\n",
    "            .map(String::toUpperCase)\n",
    "            .take(2)\n",
    ").concatWith(Mono.just(\". how are you?\"));\n",
    "\n",
    "flux.subscribe(System.out::print);\n",
    "System.out.println();\n",
    "body.subscribe(System.out::print);\n",
    "System.out.println();\n",
    "\n"
   ]
  },
  {
   "cell_type": "code",
   "execution_count": 74,
   "metadata": {},
   "outputs": [
    {
     "data": {
      "text/plain": [
       "RAUL"
      ]
     },
     "execution_count": 74,
     "metadata": {},
     "output_type": "execute_result"
    }
   ],
   "source": [
    "class Sofkiano {\n",
    "    String name;\n",
    "    Sofkiano(String name){\n",
    "        this.name = name;\n",
    "    }\n",
    "    \n",
    "    public String toString(){\n",
    "        return name;\n",
    "    }\n",
    "}\n",
    "\n",
    "var dbs = List.of(\n",
    "    new Sofkiano(\"raul\"), \n",
    "    new Sofkiano(\"Deibi\"), \n",
    "    new Sofkiano(\"Juan\")\n",
    ");\n",
    "\n",
    "//layer datos\n",
    "public Mono<Sofkiano> getSofkiano(String name){\n",
    "   var find = dbs.stream().filter(e -> e.name.equals(\"raul\")).findAny().get();\n",
    "   return Mono.just(find);\n",
    "}\n",
    "\n",
    "//layer service\n",
    "public Mono<Sofkiano> getServiceSofkiano(String name){\n",
    "   return getSofkiano(name)\n",
    "       .map(e -> {\n",
    "           return new Sofkiano(e.name.toUpperCase()); \n",
    "       });\n",
    "}\n",
    "\n",
    "//layer controller\n",
    "public Mono<Sofkiano> get(String name){\n",
    "   return getServiceSofkiano(name);\n",
    "}\n",
    "\n",
    "//spring boot - webflux\n",
    "get(\"raul\").block();\n"
   ]
  },
  {
   "cell_type": "code",
   "execution_count": 6,
   "metadata": {},
   "outputs": [
    {
     "ename": "CompilationException",
     "evalue": "",
     "output_type": "error",
     "traceback": [
      "\u001b[1m\u001b[30m|   \u001b[1m\u001b[30m    System.out.println\u001b[0m\u001b[1m\u001b[30m\u001b[41m\u001b[0m\u001b[1m\u001b[30m(\"hola\");\u001b[0m",
      "\u001b[1m\u001b[31m<identifier> expected\u001b[0m",
      "",
      "\u001b[1m\u001b[30m|   \u001b[1m\u001b[30m    System.out.println(\u001b[0m\u001b[1m\u001b[30m\u001b[41m\u001b[0m\u001b[1m\u001b[30m\"hola\");\u001b[0m",
      "\u001b[1m\u001b[31millegal start of type\u001b[0m",
      ""
     ]
    }
   ],
   "source": [
    "class saludo\n",
    "{\n",
    "    System.out.println(\"hola\");\n",
    "}\n"
   ]
  },
  {
   "cell_type": "code",
   "execution_count": null,
   "metadata": {},
   "outputs": [],
   "source": []
  }
 ],
 "metadata": {
  "kernelspec": {
   "display_name": "Java",
   "language": "java",
   "name": "java"
  },
  "language_info": {
   "codemirror_mode": "java",
   "file_extension": ".jshell",
   "mimetype": "text/x-java-source",
   "name": "Java",
   "pygments_lexer": "java",
   "version": "11.0.6+8-LTS"
  }
 },
 "nbformat": 4,
 "nbformat_minor": 4
}
