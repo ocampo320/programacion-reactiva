{
 "cells": [
  {
   "cell_type": "code",
   "execution_count": 1,
   "metadata": {},
   "outputs": [],
   "source": [
    "%%loadFromPOM\n",
    "<dependency>\n",
    "   <groupId>com.fasterxml.jackson.dataformat</groupId>\n",
    "   <artifactId>jackson-dataformat-csv</artifactId>\n",
    "   <version>2.10.3</version>\n",
    "</dependency>"
   ]
  },
  {
   "cell_type": "code",
   "execution_count": 2,
   "metadata": {},
   "outputs": [],
   "source": [
    "import com.fasterxml.jackson.annotation.JsonPropertyOrder;\n",
    "\n",
    "@JsonPropertyOrder({\"id\",\"name\",\"age\",\"photo\",\"nationality\", \"flag\", \"overall\", \"potential\", \"club\"})\n",
    "public class Player {\n",
    "\n",
    "    private String id;\n",
    "    private String name;\n",
    "    private String age;\n",
    "    private String photo;\n",
    "    private String nationality;\n",
    "    private String flag;\n",
    "    private String overall;\n",
    "    private String club;\n",
    "    public String getId() {return id;}\n",
    "    public void setId(String id) {this.id = id;}\n",
    "    public String getName() {return name;}\n",
    "    public void setName(String name) {this.name = name;}\n",
    "    public String getAge() {return age;}\n",
    "    public void setAge(String age) {this.age = age;}\n",
    "    public String getPhoto() {return photo;}\n",
    "    public void setPhoto(String photo) {this.photo = photo;}\n",
    "    public String getNationality() {return nationality;}\n",
    "    public void setNationality(String nationality) {this.nationality = nationality;}\n",
    "    public String getFlag() {return flag;}\n",
    "    public void setFlag(String flag) {this.flag = flag;}\n",
    "    public String getOverall() {return overall;}\n",
    "    public void setOverall(String overall) {this.overall = overall;}\n",
    "    public String getClub() {return club;}\n",
    "    public void setClub(String club) {this.club = club;}    \n",
    "  \n",
    "}\n"
   ]
  },
  {
   "cell_type": "code",
   "execution_count": 3,
   "metadata": {},
   "outputs": [],
   "source": [
    "import com.fasterxml.jackson.databind.MappingIterator;\n",
    "import com.fasterxml.jackson.dataformat.csv.CsvMapper;\n",
    "import com.fasterxml.jackson.dataformat.csv.CsvParser;\n",
    "\n",
    "import java.io.*;\n",
    "import java.util.List;\n",
    "\n",
    "public class Utils {\n",
    "    public static List<Player> getPlayers() {\n",
    "        File initialFile = new File(\"data.csv\");\n",
    "        MappingIterator<Player> personIter;\n",
    "        try (InputStream csvfile = new FileInputStream(initialFile)) {\n",
    "            personIter = new CsvMapper()\n",
    "                    .enable(CsvParser.Feature.IGNORE_TRAILING_UNMAPPABLE)\n",
    "                    .readerWithTypedSchemaFor(Player.class)\n",
    "                    .readValues(csvfile);\n",
    "            return personIter.readAll();\n",
    "        } catch (IOException e) {\n",
    "            throw new RuntimeException(e.getMessage());\n",
    "        }\n",
    "    }\n",
    "}"
   ]
  },
  {
   "cell_type": "code",
   "execution_count": 4,
   "metadata": {},
   "outputs": [],
   "source": [
    "import java.util.List;\n",
    "import java.util.stream.Collectors;\n",
    "\n",
    "public List<Player> getPlayersWithMaxAge(List<Player> list, int age) {\n",
    "   return list.stream()\n",
    "           .filter(player -> !player.getAge().isEmpty())\n",
    "           .filter(player -> {\n",
    "               var parseAge = Integer.parseInt(player.getAge());\n",
    "               return parseAge > age;\n",
    "           }).collect(Collectors.toList());\n",
    "}"
   ]
  },
  {
   "cell_type": "code",
   "execution_count": 61,
   "metadata": {},
   "outputs": [
    {
     "data": {
      "text/plain": [
       "103"
      ]
     },
     "execution_count": 61,
     "metadata": {},
     "output_type": "execute_result"
    }
   ],
   "source": [
    "import java.util.function.Consumer;\n",
    "import java.util.function.Function;\n",
    "import java.util.function.Supplier;\n",
    "import java.util.function.Predicate;\n",
    "import java.util.function.BiFunction;\n",
    "\n",
    "\n",
    "\n",
    "Consumer<Object> print = (Object msn) -> {\n",
    "    System.out.println(msn);\n",
    "}; //accept\n",
    "\n",
    "Function<String, Integer> knowLength = (String str) -> {\n",
    "    return str.length();\n",
    "};//apply\n",
    "\n",
    "Supplier<String> world = () -> {\n",
    "    return \"Hola Mundo\";\n",
    "};//get\n",
    "\n",
    "Predicate<String> equal = (String a) -> {\n",
    "  return a.length() >= 5;  \n",
    "};//test\n",
    "\n",
    "//print.accept(knowLength.apply(world.get()));\n",
    "\n",
    "if(equal.test(\"hola\")){\n",
    "    print.accept(\"OK\");\n",
    "}\n",
    "\n",
    "class Tupla {\n",
    "    final Integer x;\n",
    "    final Integer y;\n",
    "    Tupla(Integer x, Integer y){\n",
    "        this.x = x;\n",
    "        this.y = y;\n",
    "    }\n",
    "}\n",
    "\n",
    "BiFunction<Integer, Supplier<Integer>, Integer> add = (Integer a, Supplier<Integer> b) -> {\n",
    "    return   a + b.get();\n",
    "};//apply\n",
    "\n",
    "add.apply(3, () -> {\n",
    "    return 100;\n",
    "})\n"
   ]
  },
  {
   "cell_type": "code",
   "execution_count": 91,
   "metadata": {},
   "outputs": [
    {
     "name": "stdout",
     "output_type": "stream",
     "text": [
      "A. Vidal - FC Barcelona\n",
      "Abel Ruiz - FC Barcelona\n",
      "Aleñá - FC Barcelona\n",
      "Arthur - FC Barcelona\n",
      "C. Lenglet - FC Barcelona\n",
      "Chumi - FC Barcelona\n",
      "Coutinho - FC Barcelona\n",
      "Denis Suárez - FC Barcelona\n",
      "Ezkieta - FC Barcelona\n",
      "Guillem Jaime - FC Barcelona\n",
      "I. Rakitić - FC Barcelona\n",
      "Iñaki Peña - FC Barcelona\n",
      "J. Cillessen - FC Barcelona\n",
      "Jordi Alba - FC Barcelona\n",
      "Jorge Cuenca - FC Barcelona\n",
      "L. Messi - FC Barcelona\n",
      "L. Suárez - FC Barcelona\n",
      "M. Wagué - FC Barcelona\n",
      "M. ter Stegen - FC Barcelona\n",
      "Malcom - FC Barcelona\n",
      "Miranda - FC Barcelona\n",
      "Munir - FC Barcelona\n",
      "Nélson Semedo - FC Barcelona\n",
      "O. Dembélé - FC Barcelona\n",
      "Oriol Busquets - FC Barcelona\n",
      "Piqué - FC Barcelona\n",
      "Rafinha - FC Barcelona\n",
      "Riqui Puig - FC Barcelona\n",
      "S. Umtiti - FC Barcelona\n",
      "Sergi Roberto - FC Barcelona\n",
      "Sergi Samper - FC Barcelona\n",
      "Sergio Busquets - FC Barcelona\n",
      "T. Vermaelen - FC Barcelona\n"
     ]
    }
   ],
   "source": [
    "class FormatPlayer  {\n",
    "    String name;\n",
    "    String club;\n",
    "    \n",
    "    FormatPlayer(Player player){\n",
    "        this.name = player.getName();\n",
    "        this.club = player.getClub();\n",
    "    }\n",
    "    \n",
    "    FormatPlayer(String name, String club){\n",
    "        this.name = name;\n",
    "        this.club = club;\n",
    "    }\n",
    "    \n",
    "    public String toString(){\n",
    "        return name+\" - \"+club;\n",
    "    }\n",
    "}\n",
    "\n",
    "List<Player> list =  Utils.getPlayers();\n",
    "\n",
    "var stream = list.stream()\n",
    "    .filter(a -> \"FC Barcelona\".equals(a.getClub()))\n",
    "    .map(FormatPlayer::new);\n",
    "\n",
    "stream.sorted((o1,  o2) -> o1.name.compareTo(o2.name))\n",
    "    .forEach(System.out::println);\n",
    "\n",
    "//var result = stream.collect(Collectors.toList());\n",
    "\n"
   ]
  },
  {
   "cell_type": "code",
   "execution_count": 114,
   "metadata": {},
   "outputs": [
    {
     "data": {
      "text/plain": [
       "4.0 8.0 1.0 60.0"
      ]
     },
     "execution_count": 114,
     "metadata": {},
     "output_type": "execute_result"
    }
   ],
   "source": [
    "interface Calculator {\n",
    "    double clc(Integer a, Integer b);\n",
    "}\n",
    "\n",
    "class Executor {\n",
    "    public static ExecutorApply calculator(Calculator cal){\n",
    "        return cal::clc;\n",
    "    }\n",
    "    \n",
    "    interface ExecutorApply {\n",
    "        double with(Integer a, Integer b);\n",
    "    }\n",
    "}\n",
    "\n",
    "class MyCal {\n",
    "    public double power(int inputA, int inputB){\n",
    "        return Executor.calculator((a, b) -> a*b).with(inputA,inputB);\n",
    "    }\n",
    "}\n",
    "\n",
    "var result1 = Executor.calculator((a, b) -> a*b).with(2,2);\n",
    "var result2 = Executor.calculator((a, b) -> a+b).with(2,6);\n",
    "var result3 = Executor.calculator((a, b) -> a/b).with(6,6);\n",
    "\n",
    "var cal = new MyCal();\n",
    "result1+\" \"+result2+\" \"+result3+\" \"+cal.power(6, 10);\n"
   ]
  },
  {
   "cell_type": "code",
   "execution_count": null,
   "metadata": {},
   "outputs": [],
   "source": []
  }
 ],
 "metadata": {
  "kernelspec": {
   "display_name": "Java",
   "language": "java",
   "name": "java"
  },
  "language_info": {
   "codemirror_mode": "java",
   "file_extension": ".jshell",
   "mimetype": "text/x-java-source",
   "name": "Java",
   "pygments_lexer": "java",
   "version": "11.0.6+10"
  }
 },
 "nbformat": 4,
 "nbformat_minor": 4
}
