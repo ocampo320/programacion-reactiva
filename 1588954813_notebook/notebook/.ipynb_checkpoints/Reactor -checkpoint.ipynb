{
 "cells": [
  {
   "cell_type": "code",
   "execution_count": 1,
   "metadata": {},
   "outputs": [],
   "source": [
    "%%loadFromPOM\n",
    "<dependency>\n",
    "    <groupId>io.projectreactor</groupId>\t\n",
    "    <artifactId>reactor-core</artifactId>\n",
    "    <version>3.0.3.RELEASE</version>\n",
    "</dependency>"
   ]
  },
  {
   "cell_type": "code",
   "execution_count": 6,
   "metadata": {},
   "outputs": [
    {
     "name": "stdout",
     "output_type": "stream",
     "text": [
      "ESTADO A\n",
      "ESTADO C\n",
      "\n",
      "ESTADO 1\n",
      "ESTADO 2\n"
     ]
    },
    {
     "data": {
      "text/plain": [
       "reactor.core.publisher.LambdaSubscriber@6ae89e26"
      ]
     },
     "execution_count": 6,
     "metadata": {},
     "output_type": "execute_result"
    }
   ],
   "source": [
    "import reactor.core.publisher.Flux;\n",
    "\n",
    "Flux<String> estadoAC = Flux.just(\"ESTADO A\", \"ESTADO C\");\n",
    "Flux<String> estado12 = Flux.fromIterable(Arrays.asList(\"ESTADO 1\", \"ESTADO 2\"));\n",
    "\n",
    "estadoAC.subscribe((String r) -> {\n",
    "    System.out.println(r);\n",
    "});\n",
    "System.out.println();\n",
    "estado12.subscribe(System.out::println);"
   ]
  },
  {
   "cell_type": "code",
   "execution_count": 19,
   "metadata": {},
   "outputs": [
    {
     "name": "stdout",
     "output_type": "stream",
     "text": [
      "1. a\n",
      "2. b\n",
      "3. c\n",
      "4. d\n",
      "5. e\n",
      "6. f\n",
      "7. g\n",
      "8. h\n",
      "9. i\n",
      "10. j\n",
      "11. k\n",
      "12. l\n",
      "13. m\n",
      "14. n\n",
      "15. o\n",
      "16. p\n",
      "17. q\n",
      "18. r\n",
      "19. t\n",
      "20. u\n",
      "21. v\n",
      "22. w\n",
      "23. x\n",
      "24. y\n",
      "25. z\n"
     ]
    },
    {
     "data": {
      "text/plain": [
       "reactor.core.publisher.LambdaSubscriber@d3d646a"
      ]
     },
     "execution_count": 19,
     "metadata": {},
     "output_type": "execute_result"
    }
   ],
   "source": [
    "List<String> words = Arrays.asList(\n",
    "    \"the\",\"quick\", \"brown\", \"fox\",\"jumped\",\"over\",\"the\",\"lazy\", \"dog\"\n",
    ");\n",
    "\n",
    "Flux<String> manyLetters = Flux.fromStream(words.stream())\n",
    ".flatMap(word -> Flux.fromArray(word.split(\"\")))\n",
    ".distinct()\n",
    ".sort()\n",
    ".zipWith(Flux.range(1, 28), (string, count) -> String.format(\"%d. %s\", count, string));\n",
    "\n",
    "manyLetters.subscribe(System.out::println);\n",
    "\n"
   ]
  },
  {
   "cell_type": "code",
   "execution_count": null,
   "metadata": {},
   "outputs": [],
   "source": [
    "import reactor.core.publisher.Mono;\n",
    "\n",
    "Mono<String> missing = Mono.just(\"s\");\n",
    "Flux<String> allLetters = Flux\n",
    "    .fromIterable(words)\n",
    "    .flatMap(word -> Flux.fromArray(word.split(\"\")))\n",
    "    .concatWith(missing)\n",
    "    .distinct()\n",
    "    .sort()\n",
    "    .zipWith(Flux.range(1, Integer.MAX_VALUE),(string, count) -> String.format(\"%2d. %s\", count, string));\n",
    "\n",
    "allLetters.subscribe(System.out::println);"
   ]
  }
 ],
 "metadata": {
  "kernelspec": {
   "display_name": "Java",
   "language": "java",
   "name": "java"
  },
  "language_info": {
   "codemirror_mode": "java",
   "file_extension": ".jshell",
   "mimetype": "text/x-java-source",
   "name": "Java",
   "pygments_lexer": "java",
   "version": "11.0.6+10"
  }
 },
 "nbformat": 4,
 "nbformat_minor": 4
}
