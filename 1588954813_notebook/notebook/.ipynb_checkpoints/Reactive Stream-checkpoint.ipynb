{
 "cells": [
  {
   "cell_type": "code",
   "execution_count": 7,
   "metadata": {},
   "outputs": [],
   "source": [
    "\n",
    "import java.util.stream.IntStream; \n",
    "\n",
    "public class SimplePublisher implements Flow.Publisher<String> {\n",
    "\n",
    "    private final List<String> msnList;\n",
    "\n",
    "    public SimplePublisher() {\n",
    "        this.msnList = List.of(\n",
    "            \"Avion pronto a llegar\",\n",
    "            \"Avion llegando\",\n",
    "            \"Avion aterizando\",\n",
    "            \"Avion en zona de parking\",\n",
    "            \"Avion en zona abordando\",\n",
    "            \"Avion listo para despegar\"\n",
    "        );\n",
    "    }\n",
    "    \n",
    "\n",
    "    @Override\n",
    "    public void subscribe(Flow.Subscriber<? super String> subscriber)   {\n",
    "        msnList.forEach((event) -> {\n",
    "            try{\n",
    "                  Thread.sleep(550);\n",
    "                  subscriber.onNext(event);\n",
    "            } catch(InterruptedException e){\n",
    "                \n",
    "            }\n",
    "          \n",
    "        });\n",
    "        subscriber.onComplete();\n",
    "    }\n",
    "}"
   ]
  },
  {
   "cell_type": "code",
   "execution_count": null,
   "metadata": {},
   "outputs": [],
   "source": []
  },
  {
   "cell_type": "code",
   "execution_count": 8,
   "metadata": {},
   "outputs": [
    {
     "name": "stdout",
     "output_type": "stream",
     "text": [
      "item = [Avion pronto a llegar]\n",
      "item = [Avion llegando]\n",
      "item = [Avion aterizando]\n",
      "item = [Avion en zona de parking]\n",
      "item = [Avion en zona abordando]\n",
      "item = [Avion listo para despegar]\n",
      "listo ok, todo bien!!\n"
     ]
    }
   ],
   "source": [
    "SimplePublisher publisher = new SimplePublisher();\n",
    "\n",
    "var subscriber = new Flow.Subscriber<String>() {\n",
    "    @Override\n",
    "    public void onSubscribe(Flow.Subscription subscription) {}\n",
    "\n",
    "    @Override\n",
    "    public void onNext(String item) {\n",
    "        System.out.println(\"item = [\" + item + \"]\");\n",
    "    }\n",
    "\n",
    "    @Override\n",
    "    public void onError(Throwable throwable) {}\n",
    "\n",
    "    @Override\n",
    "    public void onComplete() {\n",
    "        System.out.println(\"listo ok, todo bien!!\");\n",
    "    }\n",
    "};\n",
    "publisher.subscribe(subscriber);"
   ]
  },
  {
   "cell_type": "code",
   "execution_count": 23,
   "metadata": {},
   "outputs": [
    {
     "name": "stdout",
     "output_type": "stream",
     "text": [
      "https://http2.github.io/ GET\n"
     ]
    }
   ],
   "source": [
    "       "
   ]
  },
  {
   "cell_type": "code",
   "execution_count": null,
   "metadata": {},
   "outputs": [],
   "source": []
  },
  {
   "cell_type": "code",
   "execution_count": null,
   "metadata": {},
   "outputs": [],
   "source": []
  },
  {
   "cell_type": "code",
   "execution_count": null,
   "metadata": {},
   "outputs": [],
   "source": []
  },
  {
   "cell_type": "code",
   "execution_count": null,
   "metadata": {},
   "outputs": [],
   "source": []
  },
  {
   "cell_type": "code",
   "execution_count": null,
   "metadata": {},
   "outputs": [],
   "source": []
  },
  {
   "cell_type": "code",
   "execution_count": null,
   "metadata": {},
   "outputs": [],
   "source": []
  },
  {
   "cell_type": "code",
   "execution_count": null,
   "metadata": {},
   "outputs": [],
   "source": []
  },
  {
   "cell_type": "code",
   "execution_count": null,
   "metadata": {},
   "outputs": [],
   "source": []
  },
  {
   "cell_type": "code",
   "execution_count": null,
   "metadata": {},
   "outputs": [],
   "source": []
  }
 ],
 "metadata": {
  "kernelspec": {
   "display_name": "Java",
   "language": "java",
   "name": "java"
  },
  "language_info": {
   "codemirror_mode": "java",
   "file_extension": ".jshell",
   "mimetype": "text/x-java-source",
   "name": "Java",
   "pygments_lexer": "java",
   "version": "11.0.6+10"
  }
 },
 "nbformat": 4,
 "nbformat_minor": 4
}
